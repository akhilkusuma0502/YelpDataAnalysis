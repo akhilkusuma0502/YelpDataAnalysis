{
 "cells": [
  {
   "cell_type": "code",
   "execution_count": null,
   "metadata": {},
   "outputs": [],
   "source": [
    "!pip install pymongo"
   ]
  },
  {
   "cell_type": "code",
   "execution_count": 20,
   "metadata": {},
   "outputs": [],
   "source": [
    "import pandas as pd\n",
    "import numpy as np\n",
    "import pymongo\n",
    "from pymongo import MongoClient\n",
    "from pyspark import SparkContext,SQLContext\n",
    "from pyspark.sql import SparkSession\n",
    "from pyspark.sql.types import *\n",
    "from matplotlib import pyplot as plt"
   ]
  },
  {
   "cell_type": "code",
   "execution_count": 2,
   "metadata": {},
   "outputs": [],
   "source": [
    "Client=MongoClient('mongodb://127.0.0.1/YelpData')"
   ]
  },
  {
   "cell_type": "code",
   "execution_count": 3,
   "metadata": {},
   "outputs": [],
   "source": [
    "sc=SparkContext()\n",
    "sqlContext=SQLContext(sc)\n",
    "sparkSession=SparkSession(sc)\n",
    "sparkSession.conf.set(\"spark.sql.execution.arrow.enabled\", \"true\")"
   ]
  },
  {
   "cell_type": "code",
   "execution_count": 4,
   "metadata": {},
   "outputs": [],
   "source": [
    "db=Client.YelpData"
   ]
  },
  {
   "cell_type": "code",
   "execution_count": 5,
   "metadata": {},
   "outputs": [],
   "source": [
    "business_info_collection=db['Business_Info']\n",
    "reviews_collection=db['Reviews']\n",
    "user_collection=db['User']"
   ]
  },
  {
   "cell_type": "code",
   "execution_count": 6,
   "metadata": {},
   "outputs": [],
   "source": [
    "Business_info_dataframe = pd.DataFrame(list(business_info_collection.find()))\n",
    "reviews_dataframe = pd.DataFrame(list(reviews_collection.find()))\n",
    "users_dataframe = pd.DataFrame(list(user_collection.find()))"
   ]
  },
  {
   "cell_type": "code",
   "execution_count": 7,
   "metadata": {},
   "outputs": [
    {
     "data": {
      "text/plain": [
       "Index(['_id', 'address', 'attributes', 'business_id', 'categories', 'city',\n",
       "       'hours', 'is_open', 'latitude', 'longitude', 'name', 'postal_code',\n",
       "       'review_count', 'stars', 'state'],\n",
       "      dtype='object')"
      ]
     },
     "execution_count": 7,
     "metadata": {},
     "output_type": "execute_result"
    }
   ],
   "source": [
    "Business_info_dataframe.columns"
   ]
  },
  {
   "cell_type": "code",
   "execution_count": 8,
   "metadata": {},
   "outputs": [],
   "source": [
    "Business_info_dataframe=Business_info_dataframe.drop(['_id'],axis=1)\n",
    "Business_info_dataframe=Business_info_dataframe.dropna()"
   ]
  },
  {
   "cell_type": "code",
   "execution_count": 12,
   "metadata": {},
   "outputs": [
    {
     "name": "stdout",
     "output_type": "stream",
     "text": [
      "(129268, 14)\n"
     ]
    },
    {
     "data": {
      "text/plain": [
       "(97611, 14)"
      ]
     },
     "execution_count": 12,
     "metadata": {},
     "output_type": "execute_result"
    }
   ],
   "source": [
    "## remove quotation marks in name and address column\n",
    "Business_info_dataframe.name=Business_info_dataframe.name.str.replace('\"','')\n",
    "Business_info_dataframe.address=Business_info_dataframe.address.str.replace('\"','')\n",
    "print(Business_info_dataframe.shape)\n",
    "## filter restaurants of US\n",
    "states = [\"AL\", \"AK\", \"AZ\", \"AR\", \"CA\", \"CO\", \"CT\", \"DC\", \"DE\", \"FL\", \"GA\", \n",
    "          \"HI\", \"ID\", \"IL\", \"IN\", \"IA\", \"KS\", \"KY\", \"LA\", \"ME\", \"MD\", \n",
    "          \"MA\", \"MI\", \"MN\", \"MS\", \"MO\", \"MT\", \"NE\", \"NV\", \"NH\", \"NJ\", \n",
    "          \"NM\", \"NY\", \"NC\", \"ND\", \"OH\", \"OK\", \"OR\", \"PA\", \"RI\", \"SC\", \n",
    "          \"SD\", \"TN\", \"TX\", \"UT\", \"VT\", \"VA\", \"WA\", \"WV\", \"WI\", \"WY\"]\n",
    "US_Business_Data=Business_info_dataframe.loc[Business_info_dataframe['state'].isin(states)]\n",
    "US_Business_Data.shape"
   ]
  },
  {
   "cell_type": "code",
   "execution_count": 13,
   "metadata": {},
   "outputs": [],
   "source": [
    "us_restaurants=US_Business_Data[US_Business_Data['categories'].str.contains('Restaurants')]"
   ]
  },
  {
   "cell_type": "code",
   "execution_count": 14,
   "metadata": {},
   "outputs": [
    {
     "name": "stderr",
     "output_type": "stream",
     "text": [
      "C:\\Users\\aki55\\Anaconda3\\lib\\site-packages\\pandas\\core\\generic.py:5079: FutureWarning: Attribute 'is_copy' is deprecated and will be removed in a future version.\n",
      "  object.__getattribute__(self, name)\n",
      "C:\\Users\\aki55\\Anaconda3\\lib\\site-packages\\pandas\\core\\generic.py:5080: FutureWarning: Attribute 'is_copy' is deprecated and will be removed in a future version.\n",
      "  return object.__setattr__(self, name, value)\n"
     ]
    }
   ],
   "source": [
    "## select out 16 cuisine types of restaurants and rename the category\n",
    "us_restaurants.is_copy=False\n",
    "us_restaurants['category']=pd.Series()\n",
    "us_restaurants.loc[us_restaurants.categories.str.contains('American'),'category'] = 'American'\n",
    "us_restaurants.loc[us_restaurants.categories.str.contains('Mexican'), 'category'] = 'Mexican'\n",
    "us_restaurants.loc[us_restaurants.categories.str.contains('Italian'), 'category'] = 'Italian'\n",
    "us_restaurants.loc[us_restaurants.categories.str.contains('Japanese'), 'category'] = 'Japanese'\n",
    "us_restaurants.loc[us_restaurants.categories.str.contains('Chinese'), 'category'] = 'Chinese'\n",
    "us_restaurants.loc[us_restaurants.categories.str.contains('Thai'), 'category'] = 'Thai'\n",
    "us_restaurants.loc[us_restaurants.categories.str.contains('Mediterranean'), 'category'] = 'Mediterranean'\n",
    "us_restaurants.loc[us_restaurants.categories.str.contains('French'), 'category'] = 'French'\n",
    "us_restaurants.loc[us_restaurants.categories.str.contains('Vietnamese'), 'category'] = 'Vietnamese'\n",
    "us_restaurants.loc[us_restaurants.categories.str.contains('Greek'),'category'] = 'Greek'\n",
    "us_restaurants.loc[us_restaurants.categories.str.contains('Indian'),'category'] = 'Indian'\n",
    "us_restaurants.loc[us_restaurants.categories.str.contains('Korean'),'category'] = 'Korean'\n",
    "us_restaurants.loc[us_restaurants.categories.str.contains('Hawaiian'),'category'] = 'Hawaiian'\n",
    "us_restaurants.loc[us_restaurants.categories.str.contains('African'),'category'] = 'African'\n",
    "us_restaurants.loc[us_restaurants.categories.str.contains('Spanish'),'category'] = 'Spanish'\n",
    "us_restaurants.loc[us_restaurants.categories.str.contains('Middle_eastern'),'category'] = 'Middle_eastern'"
   ]
  },
  {
   "cell_type": "code",
   "execution_count": 15,
   "metadata": {},
   "outputs": [
    {
     "data": {
      "text/html": [
       "<div>\n",
       "<style scoped>\n",
       "    .dataframe tbody tr th:only-of-type {\n",
       "        vertical-align: middle;\n",
       "    }\n",
       "\n",
       "    .dataframe tbody tr th {\n",
       "        vertical-align: top;\n",
       "    }\n",
       "\n",
       "    .dataframe thead th {\n",
       "        text-align: right;\n",
       "    }\n",
       "</style>\n",
       "<table border=\"1\" class=\"dataframe\">\n",
       "  <thead>\n",
       "    <tr style=\"text-align: right;\">\n",
       "      <th></th>\n",
       "      <th>address</th>\n",
       "      <th>attributes</th>\n",
       "      <th>business_id</th>\n",
       "      <th>categories</th>\n",
       "      <th>city</th>\n",
       "      <th>hours</th>\n",
       "      <th>is_open</th>\n",
       "      <th>latitude</th>\n",
       "      <th>longitude</th>\n",
       "      <th>name</th>\n",
       "      <th>postal_code</th>\n",
       "      <th>review_count</th>\n",
       "      <th>stars</th>\n",
       "      <th>state</th>\n",
       "      <th>category</th>\n",
       "    </tr>\n",
       "  </thead>\n",
       "  <tbody>\n",
       "    <tr>\n",
       "      <th>0</th>\n",
       "      <td>10110 Johnston Rd, Ste 15</td>\n",
       "      <td>{'GoodForKids': 'True', 'NoiseLevel': 'u'avera...</td>\n",
       "      <td>gnKjwL_1w79qoiV3IC_xQQ</td>\n",
       "      <td>Sushi Bars, Restaurants, Japanese</td>\n",
       "      <td>Charlotte</td>\n",
       "      <td>{'Monday': '17:30-21:30', 'Wednesday': '17:30-...</td>\n",
       "      <td>1</td>\n",
       "      <td>35.092564</td>\n",
       "      <td>-80.859132</td>\n",
       "      <td>Musashi Japanese Restaurant</td>\n",
       "      <td>28210</td>\n",
       "      <td>170</td>\n",
       "      <td>4.0</td>\n",
       "      <td>NC</td>\n",
       "      <td>Japanese</td>\n",
       "    </tr>\n",
       "    <tr>\n",
       "      <th>1</th>\n",
       "      <td>5981 Andrews Rd</td>\n",
       "      <td>{'RestaurantsPriceRange2': '2', 'BusinessAccep...</td>\n",
       "      <td>fweCYi8FmbJXHCqLnwuk8w</td>\n",
       "      <td>Italian, Restaurants, Pizza, Chicken Wings</td>\n",
       "      <td>Mentor-on-the-Lake</td>\n",
       "      <td>{'Monday': '10:0-0:0', 'Tuesday': '10:0-0:0', ...</td>\n",
       "      <td>1</td>\n",
       "      <td>41.708520</td>\n",
       "      <td>-81.359556</td>\n",
       "      <td>Marco's Pizza</td>\n",
       "      <td>44060</td>\n",
       "      <td>16</td>\n",
       "      <td>4.0</td>\n",
       "      <td>OH</td>\n",
       "      <td>Italian</td>\n",
       "    </tr>\n",
       "    <tr>\n",
       "      <th>2</th>\n",
       "      <td>2450 E Indian School Rd</td>\n",
       "      <td>{'RestaurantsTakeOut': 'True', 'BusinessParkin...</td>\n",
       "      <td>1Dfx3zM-rW4n-31KeC8sJg</td>\n",
       "      <td>Restaurants, Breakfast &amp; Brunch, Mexican, Taco...</td>\n",
       "      <td>Phoenix</td>\n",
       "      <td>{'Monday': '7:0-0:0', 'Tuesday': '7:0-0:0', 'W...</td>\n",
       "      <td>1</td>\n",
       "      <td>33.495194</td>\n",
       "      <td>-112.028588</td>\n",
       "      <td>Taco Bell</td>\n",
       "      <td>85016</td>\n",
       "      <td>18</td>\n",
       "      <td>3.0</td>\n",
       "      <td>AZ</td>\n",
       "      <td>Mexican</td>\n",
       "    </tr>\n",
       "    <tr>\n",
       "      <th>3</th>\n",
       "      <td>6055 E Lake Mead Blvd</td>\n",
       "      <td>{'BikeParking': 'True', 'BusinessParking': '{'...</td>\n",
       "      <td>tstimHoMcYbkSC4eBA1wEg</td>\n",
       "      <td>Mexican, Restaurants, Patisserie/Cake Shop, Fo...</td>\n",
       "      <td>Las Vegas</td>\n",
       "      <td>{'Monday': '11:0-21:0', 'Tuesday': '10:0-21:0'...</td>\n",
       "      <td>1</td>\n",
       "      <td>36.195615</td>\n",
       "      <td>-115.040529</td>\n",
       "      <td>Maria's Mexican Restaurant &amp; Bakery</td>\n",
       "      <td>89156</td>\n",
       "      <td>184</td>\n",
       "      <td>4.5</td>\n",
       "      <td>NV</td>\n",
       "      <td>Mexican</td>\n",
       "    </tr>\n",
       "    <tr>\n",
       "      <th>4</th>\n",
       "      <td>6401 Morrison Blvd</td>\n",
       "      <td>{'Alcohol': 'u'full_bar'', 'BusinessAcceptsCre...</td>\n",
       "      <td>BvYU3jvGd0TJ7IyZdfiN2Q</td>\n",
       "      <td>Sandwiches, Italian, American (Traditional), A...</td>\n",
       "      <td>Charlotte</td>\n",
       "      <td>{'Monday': '11:0-22:0', 'Tuesday': '11:0-22:0'...</td>\n",
       "      <td>0</td>\n",
       "      <td>35.156338</td>\n",
       "      <td>-80.831878</td>\n",
       "      <td>Manzetti's Tavern</td>\n",
       "      <td>28211</td>\n",
       "      <td>16</td>\n",
       "      <td>3.5</td>\n",
       "      <td>NC</td>\n",
       "      <td>Italian</td>\n",
       "    </tr>\n",
       "  </tbody>\n",
       "</table>\n",
       "</div>"
      ],
      "text/plain": [
       "                     address  \\\n",
       "0  10110 Johnston Rd, Ste 15   \n",
       "1            5981 Andrews Rd   \n",
       "2    2450 E Indian School Rd   \n",
       "3      6055 E Lake Mead Blvd   \n",
       "4         6401 Morrison Blvd   \n",
       "\n",
       "                                          attributes             business_id  \\\n",
       "0  {'GoodForKids': 'True', 'NoiseLevel': 'u'avera...  gnKjwL_1w79qoiV3IC_xQQ   \n",
       "1  {'RestaurantsPriceRange2': '2', 'BusinessAccep...  fweCYi8FmbJXHCqLnwuk8w   \n",
       "2  {'RestaurantsTakeOut': 'True', 'BusinessParkin...  1Dfx3zM-rW4n-31KeC8sJg   \n",
       "3  {'BikeParking': 'True', 'BusinessParking': '{'...  tstimHoMcYbkSC4eBA1wEg   \n",
       "4  {'Alcohol': 'u'full_bar'', 'BusinessAcceptsCre...  BvYU3jvGd0TJ7IyZdfiN2Q   \n",
       "\n",
       "                                          categories                city  \\\n",
       "0                  Sushi Bars, Restaurants, Japanese           Charlotte   \n",
       "1         Italian, Restaurants, Pizza, Chicken Wings  Mentor-on-the-Lake   \n",
       "2  Restaurants, Breakfast & Brunch, Mexican, Taco...             Phoenix   \n",
       "3  Mexican, Restaurants, Patisserie/Cake Shop, Fo...           Las Vegas   \n",
       "4  Sandwiches, Italian, American (Traditional), A...           Charlotte   \n",
       "\n",
       "                                               hours  is_open   latitude  \\\n",
       "0  {'Monday': '17:30-21:30', 'Wednesday': '17:30-...        1  35.092564   \n",
       "1  {'Monday': '10:0-0:0', 'Tuesday': '10:0-0:0', ...        1  41.708520   \n",
       "2  {'Monday': '7:0-0:0', 'Tuesday': '7:0-0:0', 'W...        1  33.495194   \n",
       "3  {'Monday': '11:0-21:0', 'Tuesday': '10:0-21:0'...        1  36.195615   \n",
       "4  {'Monday': '11:0-22:0', 'Tuesday': '11:0-22:0'...        0  35.156338   \n",
       "\n",
       "    longitude                                 name postal_code  review_count  \\\n",
       "0  -80.859132          Musashi Japanese Restaurant       28210           170   \n",
       "1  -81.359556                        Marco's Pizza       44060            16   \n",
       "2 -112.028588                            Taco Bell       85016            18   \n",
       "3 -115.040529  Maria's Mexican Restaurant & Bakery       89156           184   \n",
       "4  -80.831878                    Manzetti's Tavern       28211            16   \n",
       "\n",
       "   stars state  category  \n",
       "0    4.0    NC  Japanese  \n",
       "1    4.0    OH   Italian  \n",
       "2    3.0    AZ   Mexican  \n",
       "3    4.5    NV   Mexican  \n",
       "4    3.5    NC   Italian  "
      ]
     },
     "execution_count": 15,
     "metadata": {},
     "output_type": "execute_result"
    }
   ],
   "source": [
    "us_restaurants=us_restaurants.dropna(axis=0, subset=['category'])\n",
    "##del us_restaurants['categories']\n",
    "us_restaurants=us_restaurants.reset_index(drop=True)\n",
    "us_restaurants.head()"
   ]
  },
  {
   "cell_type": "code",
   "execution_count": 16,
   "metadata": {},
   "outputs": [
    {
     "name": "stderr",
     "output_type": "stream",
     "text": [
      "C:\\Users\\aki55\\Anaconda3\\lib\\site-packages\\pyspark\\sql\\session.py:714: UserWarning: createDataFrame attempted Arrow optimization because 'spark.sql.execution.arrow.enabled' is set to true; however, failed by the reason below:\n",
      "  PyArrow >= 0.8.0 must be installed; however, it was not found.\n",
      "Attempting non-optimization as 'spark.sql.execution.arrow.fallback.enabled' is set to true.\n",
      "  warnings.warn(msg)\n"
     ]
    }
   ],
   "source": [
    "USA_business_sql_df=sqlContext.createDataFrame(us_restaurants)"
   ]
  },
  {
   "cell_type": "code",
   "execution_count": 17,
   "metadata": {
    "collapsed": true,
    "jupyter": {
     "outputs_hidden": true
    }
   },
   "outputs": [
    {
     "name": "stdout",
     "output_type": "stream",
     "text": [
      "+--------------------+--------------------+--------------------+--------------------+------------------+--------------------+-------+-------------+---------------+--------------------+-----------+------------+-----+-----+-------------+\n",
      "|             address|          attributes|         business_id|          categories|              city|               hours|is_open|     latitude|      longitude|                name|postal_code|review_count|stars|state|     category|\n",
      "+--------------------+--------------------+--------------------+--------------------+------------------+--------------------+-------+-------------+---------------+--------------------+-----------+------------+-----+-----+-------------+\n",
      "|10110 Johnston Rd...|[BikeParking -> T...|gnKjwL_1w79qoiV3I...|Sushi Bars, Resta...|         Charlotte|[Thursday -> 17:3...|      1|    35.092564|     -80.859132|Musashi Japanese ...|      28210|         170|  4.0|   NC|     Japanese|\n",
      "|     5981 Andrews Rd|[BikeParking -> T...|fweCYi8FmbJXHCqLn...|Italian, Restaura...|Mentor-on-the-Lake|[Thursday -> 10:0...|      1|     41.70852|     -81.359556|       Marco's Pizza|      44060|          16|  4.0|   OH|      Italian|\n",
      "|2450 E Indian Sch...|[BusinessAcceptsC...|1Dfx3zM-rW4n-31Ke...|Restaurants, Brea...|           Phoenix|[Thursday -> 7:0-...|      1|   33.4951941|   -112.0285876|           Taco Bell|      85016|          18|  3.0|   AZ|      Mexican|\n",
      "|6055 E Lake Mead ...|[BikeParking -> T...|tstimHoMcYbkSC4eB...|Mexican, Restaura...|         Las Vegas|[Thursday -> 10:0...|      1|   36.1956146|   -115.0405289|Maria's Mexican R...|      89156|         184|  4.5|   NV|      Mexican|\n",
      "|  6401 Morrison Blvd|[RestaurantsDeliv...|BvYU3jvGd0TJ7IyZd...|Sandwiches, Itali...|         Charlotte|[Thursday -> 11:0...|      0|    35.156338|     -80.831878|   Manzetti's Tavern|      28211|          16|  3.5|   NC|      Italian|\n",
      "|       436 Market St|[BikeParking -> T...|v-scZMU6jhnmV955R...|Japanese, Sushi B...|        Pittsburgh|[Tuesday -> 11:0-...|      1|    40.441062|     -80.002126|   No. 1 Sushi Sushi|      15222|         106|  4.5|   PA|     Japanese|\n",
      "|825 Commonwealth Ave|[BikeParking -> T...|KFbUQ-RR2UOV62Ep7...|American (Traditi...|      West Mifflin|[Thursday -> 11:0...|      1|    40.376674|      -79.88248|Westwood Bar & Grill|      15122|           5|  3.0|   PA|     American|\n",
      "|13843 N Tatum Blv...|[BikeParking -> T...|44YFU284Z3KDEy25Q...|Chinese, Restaurants|           Phoenix|[Thursday -> 11:0...|      1|33.6130201898|-111.9770356779|Nee House Chinese...|      85032|         269|  3.5|   AZ|      Chinese|\n",
      "|402 Great Norther...|[BikeParking -> F...|7aLkFEBnL1LJmQdcu...|Restaurants, Pubs...|     North Olmsted|[Thursday -> 16:0...|      1|41.4165875685| -81.9043700652|    Ohio Beer Garden|      44070|           8|  4.0|   OH|     American|\n",
      "|6625 Dean Memoria...|[BikeParking -> T...|0lFAD4CuWcQVl9u3-...|Pubs, Restaurants...|            Hudson|[Thursday -> 17:0...|      1|    41.261133|     -81.503467|Cruisers Bar and ...|      44236|          12|  3.5|   OH|     American|\n",
      "|Artisan Hotel, 15...|[BikeParking -> F...|bJP4l_BGq2CudEu0m...|Restaurants, Pizz...|         Las Vegas|[Thursday -> 16:0...|      0|   36.1436722|   -115.1697916|Artisan Fine Dini...|      89102|           3|  2.0|   NV|      Italian|\n",
      "|         95 W Boston|[BikeParking -> T...|r8764MtYyt8JhxMvr...|American (New), B...|          Chandler|[Thursday -> 11:0...|      0|   33.3020931|   -111.8426128|          Vintage 95|      85225|         320|  4.0|   AZ|     American|\n",
      "|7712 Sossamon Ln ...|[BikeParking -> T...|L0aSDVHNXCl6sY4cf...|   Restaurants, Thai|           Concord|[Thursday -> 11:0...|      1|    35.364974|     -80.708763|         Mai Thai II|      28027|         108|  4.0|   NC|         Thai|\n",
      "|1770 W Horizon Ri...|[BikeParking -> F...|jScBTQtdAt-8Rshai...|Ethnic Food, Amer...|         Henderson|[Thursday -> 11:0...|      1|   36.0107451|   -115.0648029|              Served|      89012|         664|  4.5|   NV|       Korean|\n",
      "|      1514 East Blvd|[BikeParking -> T...|U3kygJOTlTQFlfaZS...|Caterers, Hot Dog...|         Charlotte|[Thursday -> 11:0...|      1|35.1997979674|  -80.842294693|JJ's Red Hots - D...|      28203|         380|  4.0|   NC|     American|\n",
      "|3655 Las Vegas Bl...|[BikeParking -> F...|6fPQJq4f_yiq1NHn0...|French, Restauran...|         Las Vegas|[Thursday -> 7:0-...|      1|36.1125266402|-115.1713514328|         La Creperie|      89109|         535|  3.5|   NV|       French|\n",
      "|3415 West Glendal...|[BusinessAcceptsC...|Rs8Wi4OEjeOX7LVlz...|Restaurants, Mexi...|           Phoenix|[Thursday -> 11:0...|      1|   33.5371638|   -112.1329258|      Sushi Mocorito|      85051|           9|  3.0|   AZ|      Mexican|\n",
      "|2765 N Scottsdale...|[BikeParking -> T...|MhnihE0alud0ereVI...|Chinese, Restaurants|        Scottsdale|[Thursday -> 11:0...|      1|    33.478754|    -111.925484|Yummy Yummy Chine...|      85257|         188|  3.0|   AZ|      Chinese|\n",
      "|     8870 Mentor Ave|[BikeParking -> T...|U3-kxz7NWq4ix4bPm...|Ethnic Food, Spec...|            Mentor|[Thursday -> 11:0...|      1|   41.6738589|    -81.3228213|    Aladdin's Eatery|      44060|          47|  4.5|   OH|Mediterranean|\n",
      "| 1008 E Camelback Rd|[BikeParking -> T...|dUffgo9Lh_Vk9TLuF...|Restaurants, Pizz...|           Phoenix|[Thursday -> 11:0...|      1|     33.50951|    -112.060238|Oregano's Pizza B...|      85014|         563|  3.5|   AZ|      Italian|\n",
      "+--------------------+--------------------+--------------------+--------------------+------------------+--------------------+-------+-------------+---------------+--------------------+-----------+------------+-----+-----+-------------+\n",
      "only showing top 20 rows\n",
      "\n"
     ]
    }
   ],
   "source": [
    "USA_business_sql_df.show()"
   ]
  },
  {
   "cell_type": "code",
   "execution_count": 18,
   "metadata": {},
   "outputs": [],
   "source": [
    "Business = USA_business_sql_df.select(USA_business_sql_df.category, USA_business_sql_df.state, USA_business_sql_df.city, USA_business_sql_df.stars, USA_business_sql_df.review_count)\n",
    "Business.registerTempTable(\"Business_Agg\")\n",
    "result = sqlContext.sql(\"SELECT Business_Agg.city, Business_Agg.category, Business_Agg.state,\\\n",
    "                        AVG(Business_Agg.review_count) As AverageReview_Count,AVG(Business_Agg.stars) as AverageStars \\\n",
    "                        FROM Business_Agg\\\n",
    "                        GROUP BY Business_Agg.city, Business_Agg.category, Business_Agg.state\\\n",
    "                         having Business_Agg.state='NC'\")"
   ]
  },
  {
   "cell_type": "code",
   "execution_count": 21,
   "metadata": {},
   "outputs": [
    {
     "name": "stderr",
     "output_type": "stream",
     "text": [
      "C:\\Users\\aki55\\Anaconda3\\lib\\site-packages\\pyspark\\sql\\dataframe.py:2110: UserWarning: toPandas attempted Arrow optimization because 'spark.sql.execution.arrow.enabled' is set to true; however, failed by the reason below:\n",
      "  PyArrow >= 0.8.0 must be installed; however, it was not found.\n",
      "Attempting non-optimization as 'spark.sql.execution.arrow.fallback.enabled' is set to true.\n",
      "  warnings.warn(msg)\n"
     ]
    },
    {
     "data": {
      "image/png": "[encoded data removed]",
      "text/plain": [
       "<Figure size 720x720 with 1 Axes>"
      ]
     },
     "metadata": {
      "needs_background": "light"
     },
     "output_type": "display_data"
    }
   ],
   "source": [
    "_=plt.figure(figsize=(10,10))\n",
    "result.toPandas().groupby('category')['AverageStars'].mean().plot(kind='barh',fontsize=18)\n",
    "_=plt.title('Average Restaurent Ratings for Different Cuisines in North Caroline, USA. ',fontsize=20)\n",
    "_=plt.xlabel('Rating(*)-->',fontsize=18)\n",
    "_=plt.ylabel('Restaurent Category---->',fontsize=20)"
   ]
  },
  {
   "cell_type": "code",
   "execution_count": 25,
   "metadata": {},
   "outputs": [
    {
     "data": {
      "text/plain": [
       "Index(['business_id', 'cool', 'date', 'funny', 'review_id', 'stars', 'text',\n",
       "       'useful', 'user_id'],\n",
       "      dtype='object')"
      ]
     },
     "execution_count": 25,
     "metadata": {},
     "output_type": "execute_result"
    }
   ],
   "source": [
    "reviews_dataframe.columns"
   ]
  },
  {
   "cell_type": "code",
   "execution_count": 24,
   "metadata": {},
   "outputs": [],
   "source": [
    "reviews_dataframe=reviews_dataframe.drop(['_id'],axis=1)\n",
    "reviews_dataframe=reviews_dataframe.dropna()"
   ]
  },
  {
   "cell_type": "code",
   "execution_count": 26,
   "metadata": {},
   "outputs": [
    {
     "name": "stderr",
     "output_type": "stream",
     "text": [
      "C:\\Users\\aki55\\Anaconda3\\lib\\site-packages\\pyspark\\sql\\session.py:714: UserWarning: createDataFrame attempted Arrow optimization because 'spark.sql.execution.arrow.enabled' is set to true; however, failed by the reason below:\n",
      "  PyArrow >= 0.8.0 must be installed; however, it was not found.\n",
      "Attempting non-optimization as 'spark.sql.execution.arrow.fallback.enabled' is set to true.\n",
      "  warnings.warn(msg)\n"
     ]
    }
   ],
   "source": [
    "reviews_sql_df=sqlContext.createDataFrame(reviews_dataframe)"
   ]
  },
  {
   "cell_type": "code",
   "execution_count": 27,
   "metadata": {},
   "outputs": [
    {
     "name": "stdout",
     "output_type": "stream",
     "text": [
      "+--------------------+----+-------------------+-----+--------------------+-----+--------------------+------+--------------------+\n",
      "|         business_id|cool|               date|funny|           review_id|stars|                text|useful|             user_id|\n",
      "+--------------------+----+-------------------+-----+--------------------+-----+--------------------+------+--------------------+\n",
      "|ujmEBvifdJM6h6RLv...|   0|2013-05-07 04:34:36|    1|Q1sbwvVQXV2734tPg...|    1|Total bill for th...|     6|hG7b0MtEbXx5QzbzE...|\n",
      "|NZnhc2sEQy3RmzKTZ...|   0|2017-01-14 21:30:33|    0|GJXCdrto3ASJOqKeV...|    5|I *adore* Travis ...|     0|yXQM5uF2jS6es16SJ...|\n",
      "|WTqjgwHlXbSFevF32...|   0|2016-11-09 20:09:03|    0|2TzJjDVDEuAW6MR5V...|    5|I have to say tha...|     3|n6-Gk65cPZL6Uz8qR...|\n",
      "|ikCg8xy5JIg_NGPx-...|   0|2018-01-09 20:56:38|    0|yi0R0Ugj_xUx_Nek0...|    5|Went in for a lun...|     0|dacAIZ6fTM6mqwW5u...|\n",
      "|b1b1eb3uo-w561D0Z...|   0|2018-01-30 23:07:38|    0|11a8sVPMUFtaC7_AB...|    1|Today was my seco...|     7|ssoyf2_x0EQMed6fg...|\n",
      "+--------------------+----+-------------------+-----+--------------------+-----+--------------------+------+--------------------+\n",
      "only showing top 5 rows\n",
      "\n"
     ]
    }
   ],
   "source": [
    "reviews_sql_df.show(5)"
   ]
  },
  {
   "cell_type": "code",
   "execution_count": 47,
   "metadata": {},
   "outputs": [],
   "source": [
    "Reviews = reviews_sql_df.select(reviews_sql_df.business_id, reviews_sql_df.review_id, reviews_sql_df.stars, reviews_sql_df.text)\n",
    "Reviews.registerTempTable(\"Reviews_Temp\")\n",
    "\n",
    "Business_temp = USA_business_sql_df.select(USA_business_sql_df.name,USA_business_sql_df.business_id)\n",
    "Business_temp.registerTempTable(\"Business\")\n",
    "\n",
    "result2 = sqlContext.sql(\"SELECT DISTINCT Business.name as BusinessName,Reviews_Temp.stars,Reviews_Temp.text as ReviewText\\\n",
    "                        FROM Business join Reviews_Temp\\\n",
    "                        ON Business.business_id=Reviews_Temp.business_id\\\n",
    "                        \")"
   ]
  },
  {
   "cell_type": "code",
   "execution_count": 48,
   "metadata": {},
   "outputs": [
    {
     "name": "stdout",
     "output_type": "stream",
     "text": [
      "+--------------------+-----+--------------------+\n",
      "|        BusinessName|stars|          ReviewText|\n",
      "+--------------------+-----+--------------------+\n",
      "|      Cafe Hollander|    3|I have heard stor...|\n",
      "|Mitchell's Fish M...|    4|Very very good ch...|\n",
      "| 1455 American Grill|    5|Burgers are great...|\n",
      "|SUSHISAMBA - Las ...|    3|Meh.  Was there f...|\n",
      "|The Arrogant Butcher|    4|This place is goo...|\n",
      "+--------------------+-----+--------------------+\n",
      "only showing top 5 rows\n",
      "\n"
     ]
    }
   ],
   "source": [
    "result2.show(5)"
   ]
  },
  {
   "cell_type": "code",
   "execution_count": null,
   "metadata": {},
   "outputs": [],
   "source": []
  }
 ],
 "metadata": {
  "kernelspec": {
   "display_name": "Python 3",
   "language": "python",
   "name": "python3"
  },
  "language_info": {
   "codemirror_mode": {
    "name": "ipython",
    "version": 3
   },
   "file_extension": ".py",
   "mimetype": "text/x-python",
   "name": "python",
   "nbconvert_exporter": "python",
   "pygments_lexer": "ipython3",
   "version": "3.7.3"
  }
 },
 "nbformat": 4,
 "nbformat_minor": 4
}
